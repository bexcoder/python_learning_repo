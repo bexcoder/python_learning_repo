{
 "cells": [
  {
   "cell_type": "code",
   "execution_count": 33,
   "metadata": {},
   "outputs": [
    {
     "name": "stdout",
     "output_type": "stream",
     "text": [
      "12\n"
     ]
    }
   ],
   "source": [
    "x = 9\n",
    "y = 3\n",
    "z = x + y\n",
    "print(z)"
   ]
  },
  {
   "cell_type": "code",
   "execution_count": 34,
   "metadata": {},
   "outputs": [
    {
     "name": "stdout",
     "output_type": "stream",
     "text": [
      "10\n"
     ]
    }
   ],
   "source": [
    "x = x + 1\n",
    "print(x)"
   ]
  },
  {
   "cell_type": "code",
   "execution_count": 35,
   "metadata": {},
   "outputs": [
    {
     "name": "stdout",
     "output_type": "stream",
     "text": [
      "12\n"
     ]
    }
   ],
   "source": [
    "x = 2\n",
    "y = 6 \n",
    "z = x * y\n",
    "print(z)"
   ]
  },
  {
   "cell_type": "code",
   "execution_count": 36,
   "metadata": {},
   "outputs": [
    {
     "name": "stdout",
     "output_type": "stream",
     "text": [
      "My name is Bex and my job title is Management Information Officer.\n"
     ]
    }
   ],
   "source": [
    "name = \"Bex\"\n",
    "job_title = \"Management Information Officer\"\n",
    "\n",
    "phrase = f\"My name is {name} and my job title is {job_title}.\"\n",
    "print(phrase)"
   ]
  },
  {
   "cell_type": "code",
   "execution_count": 1,
   "metadata": {},
   "outputs": [
    {
     "name": "stdout",
     "output_type": "stream",
     "text": [
      "t racoon\n"
     ]
    }
   ],
   "source": [
    "slice_this_phrase = \"dog cat racoon\"\n",
    "\n",
    "animal_1 = slice_this_phrase[:3]\n",
    "animal_2 = slice_this_phrase[4:7]\n",
    "animal_3 = slice_this_phrase[-6:]\n",
    "test = slice_this_phrase[-2:]\n",
    "bex = slice_this_phrase[-8:]\n",
    "\n",
    "print(bex)\n",
    "\n"
   ]
  },
  {
   "cell_type": "code",
   "execution_count": 51,
   "metadata": {},
   "outputs": [
    {
     "name": "stdout",
     "output_type": "stream",
     "text": [
      "<class 'list'>\n",
      "['red', 'blue', 'green']\n",
      "['red', 'blue', 'green', 'purple']\n",
      "['red', 'blue', 'green', 'purple', ['turquoise', 'teal']]\n",
      "['red', 'blue', 'green', 'purple', ['turquoise', 'teal'], 'turquoise', 'teal']\n",
      "['purple', ['turquoise', 'teal'], 'turquoise', 'teal']\n",
      "['red', 'blue', 'green', 'purple', ['turquoise', 'teal'], 'turquoise']\n"
     ]
    }
   ],
   "source": [
    "list_1 = []\n",
    "print(type(list_1))\n",
    "\n",
    "colours_list = ['red','blue','green']\n",
    "print(colours_list)\n",
    "\n",
    "colours_list.append('purple')\n",
    "print(colours_list)\n",
    "\n",
    "extra_colours = ['turquoise','teal']\n",
    "colours_list.append(extra_colours)\n",
    "print(colours_list)\n",
    "\n",
    "colours_list.extend(extra_colours)\n",
    "print(colours_list)\n",
    "\n",
    "print(colours_list[3:7])\n",
    "\n",
    "colours_list.remove('teal')\n",
    "print(colours_list)\n"
   ]
  },
  {
   "cell_type": "code",
   "execution_count": 33,
   "metadata": {},
   "outputs": [
    {
     "name": "stdout",
     "output_type": "stream",
     "text": [
      "15\n",
      "2.0\n",
      "<class 'float'>\n",
      "<class 'int'>\n"
     ]
    }
   ],
   "source": [
    "x = 5\n",
    "y = 10\n",
    "z = x + y\n",
    "print(z)\n",
    "j = y / x\n",
    "print(j)\n",
    "print(type(j))\n",
    "j = int(j)\n",
    "print(type(j))"
   ]
  },
  {
   "cell_type": "code",
   "execution_count": 34,
   "metadata": {},
   "outputs": [
    {
     "name": "stdout",
     "output_type": "stream",
     "text": [
      "12.56\n"
     ]
    }
   ],
   "source": [
    "radius = 2\n",
    "pi = 3.14\n",
    "\n",
    "radius_squared = radius ** 2\n",
    "circle_area = radius_squared*pi\n",
    "print(circle_area)\n"
   ]
  },
  {
   "cell_type": "code",
   "execution_count": 35,
   "metadata": {},
   "outputs": [
    {
     "ename": "TypeError",
     "evalue": "can only concatenate str (not \"int\") to str",
     "output_type": "error",
     "traceback": [
      "\u001b[0;31m---------------------------------------------------------------------------\u001b[0m",
      "\u001b[0;31mTypeError\u001b[0m                                 Traceback (most recent call last)",
      "Cell \u001b[0;32mIn[35], line 3\u001b[0m\n\u001b[1;32m      1\u001b[0m string_test \u001b[38;5;241m=\u001b[39m \u001b[38;5;124m\"\u001b[39m\u001b[38;5;124mlovely jubbly\u001b[39m\u001b[38;5;124m\"\u001b[39m\n\u001b[1;32m      2\u001b[0m number_test \u001b[38;5;241m=\u001b[39m \u001b[38;5;241m43\u001b[39m\n\u001b[0;32m----> 3\u001b[0m final_string \u001b[38;5;241m=\u001b[39m \u001b[43mstring_test\u001b[49m\u001b[43m \u001b[49m\u001b[38;5;241;43m+\u001b[39;49m\u001b[43m \u001b[49m\u001b[43mnumber_test\u001b[49m\n\u001b[1;32m      4\u001b[0m \u001b[38;5;28mprint\u001b[39m(finaL_string)\n",
      "\u001b[0;31mTypeError\u001b[0m: can only concatenate str (not \"int\") to str"
     ]
    }
   ],
   "source": [
    "string_test = \"lovely jubbly\"\n",
    "number_test = 43\n",
    "final_string = string_test + number_test\n",
    "print(finaL_string)"
   ]
  },
  {
   "cell_type": "code",
   "execution_count": null,
   "metadata": {},
   "outputs": [
    {
     "name": "stdout",
     "output_type": "stream",
     "text": [
      "4\n"
     ]
    }
   ],
   "source": [
    "i = 1\n",
    "j = 3\n",
    "print(i + j)"
   ]
  },
  {
   "cell_type": "code",
   "execution_count": 4,
   "metadata": {},
   "outputs": [
    {
     "name": "stdout",
     "output_type": "stream",
     "text": [
      "[1, 2, 3, 4, 5, 6]\n",
      "[6, 5, 4, 3, 2, 1]\n"
     ]
    }
   ],
   "source": [
    "numbers_list = [2,3,4,5,1,6]\n",
    "numbers_list.sort() # we can sort lists too, here using a METHOD\n",
    "print(numbers_list) \n",
    "\n",
    "numbers_list.sort(reverse=True)\n",
    "print(numbers_list) \n",
    "\n"
   ]
  },
  {
   "cell_type": "code",
   "execution_count": 22,
   "metadata": {},
   "outputs": [
    {
     "name": "stdout",
     "output_type": "stream",
     "text": [
      "[2, 3, 3, 4, 5]\n",
      "['Bex', 'Chloe', 'Ro']\n",
      "['amber', 'blue', 'green', 'red']\n",
      "['red', 'green', 'blue', 'amber']\n",
      "['Ro', 'Chloe', 'Bex']\n"
     ]
    }
   ],
   "source": [
    "sorted_list = sorted([3,2,3,4,5]) # Here we sort a list using a FUNCTION and returning it to a new variable\n",
    "print(sorted_list)\n",
    "\n",
    "test_sorted_list = sorted(['Ro','Chloe','Bex'])\n",
    "print(test_sorted_list)\n",
    "\n",
    "colours_list = ['red', 'blue', 'green', 'amber']\n",
    "sorted_colours = sorted(colours_list, key=str.upper)\n",
    "print(sorted_colours)\n",
    "\n",
    "colours_list.sort(reverse=True)\n",
    "print(colours_list)\n",
    "\n",
    "test_sorted_list.sort(reverse=True)\n",
    "print(test_sorted_list)"
   ]
  },
  {
   "cell_type": "code",
   "execution_count": 37,
   "metadata": {},
   "outputs": [
    {
     "name": "stdout",
     "output_type": "stream",
     "text": [
      "{'Will': 'teal', 'Andy': ['Purple', 'Green', 'Azure'], 'Annie': {'Mondays': 'Red', 'Sundays': 'Orange', 'Other days': 'Black'}}\n",
      "['Will', 'Andy', 'Annie']\n",
      "dict_items([('Will', 'teal'), ('Andy', ['Purple', 'Green', 'Azure']), ('Annie', {'Mondays': 'Red', 'Sundays': 'Orange', 'Other days': 'Black'})])\n",
      "dict_keys(['Will', 'Andy', 'Annie'])\n",
      "dict_values(['teal', ['Purple', 'Green', 'Azure'], {'Mondays': 'Red', 'Sundays': 'Orange', 'Other days': 'Black'}])\n",
      "['Purple', 'Green', 'Azure']\n"
     ]
    }
   ],
   "source": [
    "favourite_colours = {'Will':'teal',\n",
    "                     'Andy':['Purple', 'Green', 'Azure'],\n",
    "                     'Annie':{'Mondays':'Red',\n",
    "                              'Sundays':'Orange',\n",
    "                              'Other days':'Black'}}\n",
    "\n",
    "print(favourite_colours)\n",
    "# Here you can see I've stored strings, lists, and even entire dictionaries inside \n",
    "\n",
    "print(list(favourite_colours))\n",
    "# list(d) will print the keys, in order from a dictionary\n",
    "\n",
    "print(favourite_colours.items()) \n",
    "# Prints all key:value pairs\n",
    "\n",
    "print(favourite_colours.keys()) \n",
    "# Prints all keys\n",
    "\n",
    "print(favourite_colours.values()) \n",
    "# Prints all values\n",
    "\n",
    "print(favourite_colours['Andy']) \n",
    "# We can access the values associated with a key by passing it between square brackets after the dictionary's name\n",
    "\n"
   ]
  }
 ],
 "metadata": {
  "kernelspec": {
   "display_name": "Python 3",
   "language": "python",
   "name": "python3"
  },
  "language_info": {
   "codemirror_mode": {
    "name": "ipython",
    "version": 3
   },
   "file_extension": ".py",
   "mimetype": "text/x-python",
   "name": "python",
   "nbconvert_exporter": "python",
   "pygments_lexer": "ipython3",
   "version": "3.10.13"
  }
 },
 "nbformat": 4,
 "nbformat_minor": 2
}
